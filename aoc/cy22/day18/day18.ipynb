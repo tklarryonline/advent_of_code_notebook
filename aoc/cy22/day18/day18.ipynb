{
 "cells": [
  {
   "cell_type": "markdown",
   "source": [
    "# Day 18: Boiling Boulders"
   ],
   "metadata": {
    "collapsed": false
   }
  },
  {
   "cell_type": "code",
   "execution_count": 1,
   "metadata": {
    "collapsed": true
   },
   "outputs": [],
   "source": [
    "def read_inputs(file_name='samples.txt'):\n",
    "    with open(file_name) as f:\n",
    "        return [\n",
    "            tuple(map(int, line.split(',')))\n",
    "            for line in f\n",
    "        ]\n"
   ]
  },
  {
   "cell_type": "code",
   "execution_count": 2,
   "outputs": [],
   "source": [
    "lava_positions = read_inputs(file_name='inputs.txt')\n",
    "# lava_positions = read_inputs(file_name='samples.txt')"
   ],
   "metadata": {
    "collapsed": false
   }
  },
  {
   "cell_type": "code",
   "execution_count": 3,
   "outputs": [
    {
     "name": "stdout",
     "output_type": "stream",
     "text": [
      "Min position: (0, 0, 0)\n",
      "Max position: (22, 22, 22)\n"
     ]
    }
   ],
   "source": [
    "min_coord:int = 999_999_999\n",
    "max_coord = 0\n",
    "\n",
    "for lava_position in lava_positions:\n",
    "    min_coord = min(min_coord, min(lava_position))\n",
    "    max_coord = max(max_coord, max(lava_position))\n",
    "\n",
    "min_position = tuple([min_coord - 1] * 3)\n",
    "max_position = tuple([max_coord + 1] * 3)\n",
    "print(f'Min position: {min_position}')\n",
    "print(f'Max position: {max_position}')"
   ],
   "metadata": {
    "collapsed": false
   }
  },
  {
   "cell_type": "code",
   "execution_count": 4,
   "outputs": [],
   "source": [
    "Point = tuple[int, int, int]\n",
    "\n",
    "def make_cube(position: Point) -> set[Point]:\n",
    "    x, y, z = position\n",
    "    cube_corners = set()\n",
    "\n",
    "    if x >= min_coord:\n",
    "        cube_corners.add((x - 1, y, z))\n",
    "\n",
    "    if x <= max_coord:\n",
    "        cube_corners.add((x + 1, y, z))\n",
    "\n",
    "    if y >= min_coord:\n",
    "        cube_corners.add((x, y - 1, z))\n",
    "\n",
    "    if y <= max_coord:\n",
    "        cube_corners.add((x, y + 1, z))\n",
    "\n",
    "    if z >= min_coord:\n",
    "        cube_corners.add((x, y, z - 1))\n",
    "\n",
    "    if z <= max_coord:\n",
    "        cube_corners.add((x, y, z + 1))\n",
    "\n",
    "    return cube_corners"
   ],
   "metadata": {
    "collapsed": false
   }
  },
  {
   "cell_type": "code",
   "execution_count": 5,
   "outputs": [
    {
     "name": "stdout",
     "output_type": "stream",
     "text": [
      "Part 1: Uncovered sides = 4460\n"
     ]
    }
   ],
   "source": [
    "def find_uncovered_sides(positions: list[Point]) -> int:\n",
    "    positions = set(positions)\n",
    "    return sum(\n",
    "        len(make_cube(position) - positions)\n",
    "        for position in positions\n",
    "    )\n",
    "\n",
    "uncovered_sides = find_uncovered_sides(lava_positions)\n",
    "print(f'Part 1: Uncovered sides = {uncovered_sides}')"
   ],
   "metadata": {
    "collapsed": false
   }
  },
  {
   "cell_type": "markdown",
   "source": [
    "## Part 2\n",
    "\n",
    "Maybe we need to do a floodfill...\n",
    "Before that, we need to find the minimum and maximum values of all X, Y, Z to understand the bounding box.\n",
    "Then subtract/add 1 to the bounding box to have a breather for floodfill."
   ],
   "metadata": {
    "collapsed": false
   }
  },
  {
   "cell_type": "code",
   "execution_count": 6,
   "outputs": [
    {
     "name": "stdout",
     "output_type": "stream",
     "text": [
      "Part 2: 2498\n"
     ]
    }
   ],
   "source": [
    "def find_facades(positions: list[Point], min_position: Point) -> int:\n",
    "    area = 0\n",
    "    air_surface = [min_position]\n",
    "    steam = {min_position}\n",
    "\n",
    "    while air_surface:\n",
    "        position = air_surface.pop()\n",
    "        for corner in make_cube(position) - steam:\n",
    "            if corner in positions:\n",
    "                area += 1\n",
    "            else:\n",
    "                steam.add(corner)\n",
    "                air_surface.append(corner)\n",
    "\n",
    "    return area\n",
    "\n",
    "outward_sides = find_facades(lava_positions, min_position)\n",
    "print(f'Part 2: {outward_sides}')\n"
   ],
   "metadata": {
    "collapsed": false
   }
  }
 ],
 "metadata": {
  "kernelspec": {
   "display_name": "Python 3",
   "language": "python",
   "name": "python3"
  },
  "language_info": {
   "codemirror_mode": {
    "name": "ipython",
    "version": 2
   },
   "file_extension": ".py",
   "mimetype": "text/x-python",
   "name": "python",
   "nbconvert_exporter": "python",
   "pygments_lexer": "ipython2",
   "version": "2.7.6"
  }
 },
 "nbformat": 4,
 "nbformat_minor": 0
}
