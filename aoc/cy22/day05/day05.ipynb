{
 "cells": [
  {
   "cell_type": "markdown",
   "source": [
    "# Day 05: Supply Stacks"
   ],
   "metadata": {
    "collapsed": false
   }
  },
  {
   "cell_type": "code",
   "execution_count": 29,
   "outputs": [],
   "source": [
    "file_name = 'inputs.txt'\n",
    "with open(file_name, 'r') as f:\n",
    "    puzzle_inputs = f.read()\n",
    "\n",
    "stacks_str, moves_str = puzzle_inputs.split('\\n\\n')\n",
    "steps = moves_str.splitlines()\n",
    "stacks = stacks_str.splitlines()"
   ],
   "metadata": {
    "collapsed": false
   }
  },
  {
   "cell_type": "code",
   "execution_count": 30,
   "outputs": [],
   "source": [
    "import itertools\n",
    "\n",
    "valid_crates = '123456789'\n",
    "\n",
    "def parse_stacks(stacks):\n",
    "    transposed_stacks = list(map(list, itertools.zip_longest(*stacks, fillvalue=None)))\n",
    "    clean_up_crates = lambda stack: [\n",
    "        crate\n",
    "        for crate in stack\n",
    "        if crate and crate.strip() and crate not in valid_crates\n",
    "    ]\n",
    "    return [\n",
    "        clean_up_crates(stack)\n",
    "        for stack in transposed_stacks\n",
    "        if stack[-1] in valid_crates\n",
    "    ]\n",
    "\n",
    "stacks = parse_stacks(stacks)"
   ],
   "metadata": {
    "collapsed": false
   }
  },
  {
   "cell_type": "code",
   "execution_count": 31,
   "outputs": [],
   "source": [
    "import re\n",
    "pattern = re.compile(r'(\\d+)')"
   ],
   "metadata": {
    "collapsed": false
   }
  },
  {
   "cell_type": "markdown",
   "source": [
    "## Part 1"
   ],
   "metadata": {
    "collapsed": false
   }
  },
  {
   "cell_type": "code",
   "execution_count": 32,
   "outputs": [
    {
     "name": "stdout",
     "output_type": "stream",
     "text": [
      "FJSRQCFTN\n"
     ]
    }
   ],
   "source": [
    "import copy\n",
    "\n",
    "def part_1(stacks_list):\n",
    "    stacks = copy.deepcopy(stacks_list)\n",
    "\n",
    "    for step in steps:\n",
    "        moves, from_stack, to_stack = [int(x) for x in pattern.findall(step)]\n",
    "        for _ in range(moves):\n",
    "            crate = stacks[from_stack - 1].pop(0)\n",
    "            stacks[to_stack - 1].insert(0, crate)\n",
    "\n",
    "    return ''.join(s[0] for s in stacks)\n",
    "\n",
    "print(part_1(stacks))"
   ],
   "metadata": {
    "collapsed": false
   }
  },
  {
   "cell_type": "markdown",
   "source": [
    "## Part 2"
   ],
   "metadata": {
    "collapsed": false
   }
  },
  {
   "cell_type": "code",
   "execution_count": 36,
   "outputs": [
    {
     "name": "stdout",
     "output_type": "stream",
     "text": [
      "CJVLJQPHS\n"
     ]
    }
   ],
   "source": [
    "def part_2(stacks_list):\n",
    "    stacks = copy.deepcopy(stacks_list)\n",
    "\n",
    "    for step in steps:\n",
    "        moves, from_stack, to_stack = [int(x) for x in pattern.findall(step)]\n",
    "\n",
    "        crates = stacks[from_stack - 1][:moves]\n",
    "        stacks[from_stack - 1] = stacks[from_stack - 1][moves:]\n",
    "\n",
    "        stacks[to_stack - 1] = crates + stacks[to_stack - 1]\n",
    "\n",
    "    return ''.join(s[0] for s in stacks)\n",
    "\n",
    "print(part_2(stacks))"
   ],
   "metadata": {
    "collapsed": false
   }
  },
  {
   "cell_type": "code",
   "execution_count": null,
   "outputs": [],
   "source": [],
   "metadata": {
    "collapsed": false
   }
  }
 ],
 "metadata": {
  "kernelspec": {
   "display_name": "Python 3",
   "language": "python",
   "name": "python3"
  },
  "language_info": {
   "codemirror_mode": {
    "name": "ipython",
    "version": 2
   },
   "file_extension": ".py",
   "mimetype": "text/x-python",
   "name": "python",
   "nbconvert_exporter": "python",
   "pygments_lexer": "ipython2",
   "version": "2.7.6"
  }
 },
 "nbformat": 4,
 "nbformat_minor": 0
}
