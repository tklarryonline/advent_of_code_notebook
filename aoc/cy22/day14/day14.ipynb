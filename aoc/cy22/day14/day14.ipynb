{
 "cells": [
  {
   "cell_type": "markdown",
   "source": [
    "# Day 14: Regolith Reservoir\n",
    "\n",
    "SAND FALLLLL!"
   ],
   "metadata": {
    "collapsed": false
   }
  },
  {
   "cell_type": "code",
   "execution_count": 1,
   "metadata": {
    "collapsed": true
   },
   "outputs": [],
   "source": [
    "def read_puzzle_inputs(file_name='samples.txt'):\n",
    "    rocks = []\n",
    "    with open(file_name, 'r') as f:\n",
    "        for line in f:\n",
    "            rocks.append([\n",
    "                tuple(\n",
    "                    int(c) for c in coord_str.split(',')\n",
    "                )\n",
    "                for coord_str in line.strip().split(' -> ')\n",
    "            ])\n",
    "\n",
    "    return rocks"
   ]
  },
  {
   "cell_type": "code",
   "execution_count": 8,
   "outputs": [],
   "source": [
    "rock_paths = read_puzzle_inputs('inputs.txt')"
   ],
   "metadata": {
    "collapsed": false
   }
  },
  {
   "cell_type": "code",
   "execution_count": 4,
   "outputs": [],
   "source": [
    "def get_all_rocks(rock_paths):\n",
    "    rocks = set()\n",
    "    max_y = 0\n",
    "    for path in rock_paths:\n",
    "        for (x0, y0), (x1, y1) in zip(path, path[1:]):\n",
    "            for x in range(min(x0, x1), max(x0, x1) + 1):\n",
    "                for y in range(min(y0, y1), max(y0, y1) + 1):\n",
    "                    rocks.add(x + y * 1j)\n",
    "                    max_y = max(max_y, y)\n",
    "    return rocks, max_y"
   ],
   "metadata": {
    "collapsed": false
   }
  },
  {
   "cell_type": "code",
   "execution_count": 9,
   "outputs": [],
   "source": [
    "rocks, max_y = get_all_rocks(rock_paths)"
   ],
   "metadata": {
    "collapsed": false
   }
  },
  {
   "cell_type": "markdown",
   "source": [
    "Now we need to simulate the sand falling part. I tried using set of tuples but the comparison is extremely slow.\n",
    "Luckily Python has native support for imagine number."
   ],
   "metadata": {
    "collapsed": false
   }
  },
  {
   "cell_type": "code",
   "execution_count": 12,
   "outputs": [],
   "source": [
    "SAND_START = 500 + 0 * 1j\n",
    "SAND_FALL_PATTERNS = [\n",
    "    1j,  # Directly down\n",
    "    -1 + 1j, # To the left\n",
    "    1 + 1j,  # To the right\n",
    "]\n",
    "\n",
    "\n",
    "def sand_fall(rocks, max_y, with_floor=False):\n",
    "    obstacles = set(rocks)\n",
    "    height = max_y + 1\n",
    "\n",
    "    while True:\n",
    "        sand_position = SAND_START\n",
    "\n",
    "        while True:\n",
    "            to_abyss = sand_position.imag >= height\n",
    "\n",
    "            if to_abyss and not with_floor:\n",
    "                return len(obstacles) - len(rocks)\n",
    "\n",
    "            for delta in SAND_FALL_PATTERNS:\n",
    "                destination = sand_position + delta\n",
    "                if destination not in obstacles and not to_abyss:\n",
    "                    sand_position = destination\n",
    "                    break\n",
    "            else:\n",
    "                obstacles.add(sand_position)\n",
    "                # Checks if sand is filled to the very top\n",
    "                if sand_position == SAND_START:\n",
    "                    return len(obstacles) - len(rocks)\n",
    "                break"
   ],
   "metadata": {
    "collapsed": false
   }
  },
  {
   "cell_type": "markdown",
   "source": [
    "## Part 1"
   ],
   "metadata": {
    "collapsed": false
   }
  },
  {
   "cell_type": "code",
   "execution_count": 15,
   "outputs": [
    {
     "data": {
      "text/plain": "655"
     },
     "execution_count": 15,
     "metadata": {},
     "output_type": "execute_result"
    }
   ],
   "source": [
    "part1 = sand_fall(rocks, max_y)\n",
    "part1"
   ],
   "metadata": {
    "collapsed": false
   }
  },
  {
   "cell_type": "markdown",
   "source": [
    "## Part 2\n",
    "\n",
    "Apparently I have to add the floor but not the abyss anymore."
   ],
   "metadata": {
    "collapsed": false
   }
  },
  {
   "cell_type": "code",
   "execution_count": 16,
   "outputs": [
    {
     "data": {
      "text/plain": "26484"
     },
     "execution_count": 16,
     "metadata": {},
     "output_type": "execute_result"
    }
   ],
   "source": [
    "part2 = sand_fall(rocks, max_y, with_floor=True)\n",
    "part2"
   ],
   "metadata": {
    "collapsed": false
   }
  },
  {
   "cell_type": "code",
   "execution_count": null,
   "outputs": [],
   "source": [],
   "metadata": {
    "collapsed": false
   }
  }
 ],
 "metadata": {
  "kernelspec": {
   "display_name": "Python 3",
   "language": "python",
   "name": "python3"
  },
  "language_info": {
   "codemirror_mode": {
    "name": "ipython",
    "version": 2
   },
   "file_extension": ".py",
   "mimetype": "text/x-python",
   "name": "python",
   "nbconvert_exporter": "python",
   "pygments_lexer": "ipython2",
   "version": "2.7.6"
  }
 },
 "nbformat": 4,
 "nbformat_minor": 0
}
