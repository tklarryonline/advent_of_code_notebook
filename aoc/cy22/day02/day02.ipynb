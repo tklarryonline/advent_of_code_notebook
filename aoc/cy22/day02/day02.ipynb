{
 "cells": [
  {
   "cell_type": "markdown",
   "source": [
    "# Day 02 - Rock Paper Scissors\n",
    "\n",
    "## Part 1"
   ],
   "metadata": {
    "collapsed": false
   }
  },
  {
   "cell_type": "code",
   "execution_count": 5,
   "outputs": [
    {
     "data": {
      "text/plain": "['C Z', 'A Y', 'C Z', 'A Y', 'C Y', 'A Z']"
     },
     "execution_count": 5,
     "metadata": {},
     "output_type": "execute_result"
    }
   ],
   "source": [
    "with open('inputs.txt', 'r') as f:\n",
    "    rounds = [line.strip() for line in f]\n",
    "rounds[:6]"
   ],
   "metadata": {
    "collapsed": false
   }
  },
  {
   "cell_type": "markdown",
   "source": [
    "### Scoring guide:\n",
    "\n",
    "Your total score is the sum of your scores for each round.\n",
    "The score for a single round is the score for the shape you selected (1 for Rock, 2 for Paper, and 3 for Scissors)\n",
    "plus the score for the outcome of the round (0 if you lost, 3 if the round was a draw, and 6 if you won)."
   ],
   "metadata": {
    "collapsed": false
   }
  },
  {
   "cell_type": "code",
   "execution_count": 7,
   "outputs": [
    {
     "data": {
      "text/plain": "12586"
     },
     "execution_count": 7,
     "metadata": {},
     "output_type": "execute_result"
    }
   ],
   "source": [
    "ROCK, PAPER, SCISSORS = (1, 2, 3)\n",
    "LOSE, DRAW, WON = (0, 3, 6)\n",
    "SCORING = {\n",
    "    # Rock\n",
    "    'A': {\n",
    "        'X': (DRAW, ROCK),\n",
    "        'Y': (WON, PAPER),\n",
    "        'Z': (LOSE, SCISSORS),\n",
    "    },\n",
    "    # Paper\n",
    "    'B': {\n",
    "        'X': (LOSE, ROCK),\n",
    "        'Y': (DRAW, PAPER),\n",
    "        'Z': (WON, SCISSORS)\n",
    "    },\n",
    "    # Scissors\n",
    "    'C': {\n",
    "        'X': (WON, ROCK),\n",
    "        'Y': (LOSE, PAPER),\n",
    "        'Z': (DRAW, SCISSORS),\n",
    "    }\n",
    "}\n",
    "\n",
    "def calculate_scores(scoring=SCORING):\n",
    "    scores = 0\n",
    "    for r in rounds:\n",
    "        opponent, player = r.split(' ')\n",
    "        scores += sum(scoring[opponent][player])\n",
    "    return scores\n",
    "\n",
    "calculate_scores()"
   ],
   "metadata": {
    "collapsed": false
   }
  },
  {
   "cell_type": "markdown",
   "source": [
    "## Part 2"
   ],
   "metadata": {
    "collapsed": false
   }
  },
  {
   "cell_type": "code",
   "execution_count": 8,
   "outputs": [
    {
     "data": {
      "text/plain": "13193"
     },
     "execution_count": 8,
     "metadata": {},
     "output_type": "execute_result"
    }
   ],
   "source": [
    "UPDATED_SCORING = {\n",
    "    # Rock\n",
    "    'A': {\n",
    "        'X': (LOSE, SCISSORS),\n",
    "        'Y': (DRAW, ROCK),\n",
    "        'Z': (WON, PAPER)\n",
    "    },\n",
    "    # Paper\n",
    "    'B': {\n",
    "        'X': (LOSE, ROCK),\n",
    "        'Y': (DRAW, PAPER),\n",
    "        'Z': (WON, SCISSORS)\n",
    "    },\n",
    "    # Scissors\n",
    "    'C': {\n",
    "        'X': (LOSE, PAPER),\n",
    "        'Y': (DRAW, SCISSORS),\n",
    "        'Z': (WON, ROCK)\n",
    "    }\n",
    "}\n",
    "calculate_scores(scoring=UPDATED_SCORING)"
   ],
   "metadata": {
    "collapsed": false
   }
  },
  {
   "cell_type": "code",
   "execution_count": null,
   "outputs": [],
   "source": [],
   "metadata": {
    "collapsed": false
   }
  }
 ],
 "metadata": {
  "kernelspec": {
   "display_name": "Python 3",
   "language": "python",
   "name": "python3"
  },
  "language_info": {
   "codemirror_mode": {
    "name": "ipython",
    "version": 2
   },
   "file_extension": ".py",
   "mimetype": "text/x-python",
   "name": "python",
   "nbconvert_exporter": "python",
   "pygments_lexer": "ipython2",
   "version": "2.7.6"
  }
 },
 "nbformat": 4,
 "nbformat_minor": 0
}
