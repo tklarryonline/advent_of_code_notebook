{
 "cells": [
  {
   "cell_type": "markdown",
   "source": [
    "# Day 07\n",
    "\n",
    "## Part 1"
   ],
   "metadata": {
    "collapsed": false
   }
  },
  {
   "cell_type": "code",
   "execution_count": 30,
   "outputs": [
    {
     "data": {
      "text/plain": "['$ cd /',\n '$ ls',\n 'dir brhvclj',\n 'dir clnvqg',\n 'dir dtqtvvrn',\n 'dir lcz',\n 'dir pcqjncwl',\n 'dir qwvfpgl',\n 'dir rtmj',\n 'dir shg']"
     },
     "execution_count": 30,
     "metadata": {},
     "output_type": "execute_result"
    }
   ],
   "source": [
    "input_file = 'inputs.txt'\n",
    "with open(input_file, 'r') as f:\n",
    "    puzzle_inputs = [line.strip() for line in f]\n",
    "puzzle_inputs[:10]"
   ],
   "metadata": {
    "collapsed": false
   }
  },
  {
   "cell_type": "code",
   "execution_count": 5,
   "outputs": [],
   "source": [
    "import re\n",
    "\n",
    "file_pattern = re.compile(r'^(\\d+)\\s(.+)')\n",
    "dir_pattern = re.compile(r'^dir (.+)')"
   ],
   "metadata": {
    "collapsed": false
   }
  },
  {
   "cell_type": "code",
   "execution_count": 10,
   "outputs": [
    {
     "data": {
      "text/plain": "('ddasf',)"
     },
     "execution_count": 10,
     "metadata": {},
     "output_type": "execute_result"
    }
   ],
   "source": [
    "m = dir_pattern.match('dir ddasf')\n",
    "m.groups()"
   ],
   "metadata": {
    "collapsed": false
   }
  },
  {
   "cell_type": "code",
   "execution_count": 31,
   "outputs": [
    {
     "data": {
      "text/plain": "{'brhvclj': {'mtlscfrd.gdr': 40016,\n  'mvslzl': {'dngldfww': {'wcrvztrh.mzb': 102218},\n   'dzplphqw': {'brhvclj': 93724, 'cwqwcjc.lgd': 169467}},\n  'npp.vjv': 112449,\n  'pbgjwb': 46674,\n  'qdtls': {'nnlzrwgh': {'fnb': 141976},\n   'svc': {'hzrml': 87249, 'qbmgmmc': 46855, 'zsbsq.cvq': 147235},\n   'tcq.lng': 168425,\n   'vjrntvbz.sgn': 99608,\n   'wshf': {'npp.vjv': 25072},\n   'wtmdzgvg': {'cfpfdqq.vfd': 165660,\n    'dhbrmn': {'brhvclj.hcf': 200474, 'npp.vjv': 233675, 'ttntt': 218734},\n    'dscvmj.wpn': 176203,\n    'rcdwft': {'wvfdjv': {'mdrr': 104669}}}},\n  'tfns': {'clnvqg': {'brhvclj': {'brhvclj': {'mlrcgl': 246966,\n      'ttntt.ztq': 93485}},\n    'cdfj': 103188,\n    'svc': 256254,\n    'tndnh.vgg': 72302},\n   'mlft.cvp': 15637,\n   'pqp': {'svc': {'bsczwq': 202934}, 'ttntt.qpm': 206837},\n   'svc.mqv': 77675,\n   'ttntt': {'dfmgqmvm': {'qbms': {'lvfphhpw.sjv': 20046,\n      'pdbtbmf': 186516,\n      'svc.dqh': 149493,\n      'tdvtcmwz': {'hpdm.ctv': 100584}},\n     'wczpvsw.ddr': 201736,\n     'wshwhzw': {'hwvgnwf': 116856}},\n    'hpdm.ctv': 126511},\n   'wfcczs': {'rlbnv': {'ttntt.mnl': 55214}},\n   'wshwhzw': {'clnvqg': 34867}}},\n 'clnvqg': {'bchstbpm': {'sgbwd': {'clnvqg': 267083},\n   'ttntt': {'rwcmtrr.nvf': 243283}},\n  'bgbdbr': {'jshpz': {'dpnqrg': {'dvmnw.gmd': 140379},\n    'gsvwsc': {'pdbtbmf': 84951},\n    'jjfrh.ttr': 173172,\n    'jzm.fcn': 203836,\n    'pdbtbmf': 83990,\n    'pqcmhzhv.ltv': 276348,\n    'ttntt': {'brhvclj': 149785, 'rfcssr': {'lgwztd.fcm': 13174}},\n    'wshwhzw': {'clnvqg.nqz': 55302,\n     'cpbh': {'wvnzlj': 13930},\n     'mrv': {'cqhpvpzf.zjn': 207468,\n      'drgcn': {'brhvclj': {'hpdm.ctv': 162309, 'jjfrh.ttr': 231880},\n       'gnrdmjls.tps': 247117},\n      'pdbtbmf': 211947,\n      'svc': {'cjsh': 270511, 'ttntt': {'ssrrt.dqr': 43248}}},\n     'wshwhzw.chb': 139006,\n     'zgtnfm': {'vhjtgv': {'svc': 98550}}}}},\n  'clnvqg': {'gcnc': {'bqzr': 268141,\n    'brhvclj': {'qqr': {'stpjr': 143274},\n     'qwwl': {'clnvqg': {'brhvclj': {'ttntt.fjp': 67021},\n       'zzhwq': {'gsplfsvm': {'qgjmbn': 103196}}},\n      'mfctzj': 213885,\n      'tvp.fqv': 27640},\n     'rcnn': 265677},\n    'cjcpzv': {'bjpb.tln': 173344},\n    'npp.vjv': 262869},\n   'nrlptqrq.jtv': 141966},\n  'clnvqg.rbr': 25956,\n  'gzzpwvzn.zzr': 60939,\n  'jjfrh.ttr': 212583,\n  'jlsvjcdm': {'bmgbjnbr': {'bddbffsf': {'svc.vdv': 181609},\n    'brhvclj': {'brhvclj': {'bpgmc': {'npp.vjv': 42515,\n       'wshwhzw': {'pdbtbmf': 80221}},\n      'brhvclj': {'qfwj': 74083},\n      'nrrpsn': {'cdfj': 58623},\n      'ttntt': {'ddd.sbj': 117488, 'npp.vjv': 69152}},\n     'cdfj': 64387,\n     'fhq.lzh': 168933,\n     'njrrzm': 193119,\n     'svc.tqs': 129346},\n    'clnvqg': 143376,\n    'ddbcvhqr': {'brhvclj.ngg': 3037,\n     'flz': {'pdbtbmf': 249582},\n     'hhjw.czf': 85361,\n     'npp.vjv': 193196,\n     'svc': {'ddrthl': {'clnvqg': 148058, 'svc.wch': 185720},\n      'dptjfd': {'cdfj': 101663,\n       'clnvqg.qzn': 80244,\n       'jrsmdsjv.dft': 98435,\n       'nhjthr': {'fnvztg.pwp': 105069,\n        'pmgzdp': {'pdbtbmf': 94671},\n        'qgvzbclg': {'pdbtbmf': 183904}}},\n      'hqncdcdh': {'cwdsppc.hnn': 105956,\n       'pdbtbmf': 91439,\n       'wshwhzw.dcn': 21314}},\n     'tmfc': 173507,\n     'ttntt.ddw': 274216},\n    'flq.rls': 199097,\n    'hbjcftfb.vvj': 156627,\n    'jjfrh.ttr': 41970,\n    'rlj': {'clnvqg': 173111,\n     'gsfzgvpz': {'bcdrtwzd.nrz': 266749},\n     'ljwrdb': {'dlmhm': {'ttntt.rdv': 50087}, 'mpmtj': {'czh': 254330}},\n     'pdbtbmf': 102231},\n    'svc': {'pdbtbmf': 131211, 'tgpprcnb.dfv': 214730},\n    'wshwhzw': {'cppwqrg': 225058,\n     'hrzsfhct': {'pqvlqpdt': {'hwnlsv.hhq': 211827}, 'pvlhtz.grj': 139531},\n     'tzvn.hhj': 228371,\n     'vjjgrt': {'hdlcnfm': {'snhftjr': {'svc.wwb': 198904}},\n      'npp.vjv': 266998,\n      'qndrvvqv': 259189}},\n    'zhczqq': {'brhvclj': {'ttntt.cds': 123699}}},\n   'brhvclj': {'dvqszvl': {'jjfrh.ttr': 172068},\n    'ttr': {'rzsqqhn': {'cbpg': 129077,\n      'clnvqg': {'cdfj': 263592,\n       'pdbtbmf': 249813,\n       'vpzfll.wqw': 190382,\n       'wshwhzw': {'cdfj': 57060}},\n      'jjfrh.ttr': 12120,\n      'npp.vjv': 211464,\n      'qgl.tvn': 12541,\n      'snbrwg.cpg': 136465}}},\n   'brhvclj.cwn': 106074,\n   'gwgzvwf': 96364,\n   'hpdm.ctv': 199266,\n   'svc': {'clnqz': {'clnvqg': 108229, 'svc': 195990, 'swf': 29403},\n    'ggrwpjjg': {'gdftglf': {'csfsthp.cnc': 209357,\n      'rjs': 30622,\n      'ttntt': {'rvsvs.dfh': 224617},\n      'wvqc.zsz': 15836},\n     'hpdm.ctv': 142336,\n     'npp.vjv': 190941},\n    'mjvm': {'ctlddnj': {'dzr.dfv': 254493,\n      'fmbzjww': 123026,\n      'svc': 79075,\n      'svc.vnw': 43782,\n      'vgqf': {'dhqhfb': 277076,\n       'ffqg': {'nrd': {'vrwph.bgp': 205734}},\n       'svc': {'brhvclj': {'hvppncbd.sgs': 75177},\n        'hpdm.ctv': 111819,\n        'nglt': 68407,\n        'ttntt': 168768}},\n      'vtljbndt.tvc': 258169},\n     'ddwg': {'phwqwshr': 21210,\n      'rftdb.mcq': 207062,\n      'tthrf': {'czjnvnn': {'cbqmvtw.zjv': 143802, 'svc.rwf': 37329},\n       'dhhw.mbs': 236764,\n       'ljdwgwhm.fbm': 25583,\n       'lrgtg': {'gpwpc': {'jjfrh.ttr': 257389}},\n       'srsh.fpb': 113563,\n       'vzhpqb': {'clnvqg': 95696,\n        'clnvqg.qtd': 218063,\n        'hnqqrdf': {'brhvclj': {'ttntt': {'npp.vjv': 40453}}},\n        'ttntt': {'clnvqg.fwm': 30351,\n         'pdbtbmf': 60519,\n         'pfhrgj': {'svc.fwm': 41975},\n         'qcvs.rbj': 247371,\n         'qdjqgqqw': 155276}},\n       'zgcvsc.pmm': 110004}},\n     'ncls.nwh': 207564,\n     'npp.vjv': 139671,\n     'wbqnvn.qhq': 212692},\n    'ngntgnrw.brd': 217220,\n    'svc': {'jftcvbl.lhh': 110021},\n    'wshwhzw': 146817,\n    'zmchn': {'brhvclj.zcq': 188817,\n     'ddzjr': {'clnvqg.css': 217591,\n      'ttntt': {'bscqn': {'tlcwbbng.spf': 25049}, 'svc.pbh': 132748},\n      'wshwhzw': {'brhvclj': 164106,\n       'chnrbb': 193910,\n       'njsnwmrc': {'hpdm.ctv': 273188, 'wzpzjgw': 261368},\n       'nnhcsb': {'dmnmcgr': {'szbcvp': 43175, 'vjqjzp': 109544},\n        'pdbtbmf': 67701,\n        'ptlqcl.sgt': 145277,\n        'pwrjt': {'ffqfqvjv': {'bgmgwt.gmg': 102537},\n         'svc': {'jswrfjvp.vgc': 177913, 'npp.vjv': 145714, 'zzsl': 272487}},\n        'svc.jbb': 13031,\n        'svc.mvh': 263232,\n        'vggpwj': 91724},\n       'qrrt.pmp': 195858,\n       'ttntt': 43854,\n       'vdvfdgcl.mpr': 90698}},\n     'fnmhc': {'dhhwdbb': {'zpvv': 201253},\n      'ttntt': {'brhvclj': {'gwtvbzph': 19488,\n        'hpdm.ctv': 98427,\n        'swncltj.sbn': 8547,\n        'wshwhzw.fmj': 54698,\n        'ztlvdwq': {'cdfj': 259702, 'mbz.ttq': 230030}},\n       'chb.fbh': 40561,\n       'gzwrtwtd': 159663,\n       'wwz.rft': 119970},\n      'wshwhzw': {'clnvqg': {'hdwf.ppm': 208408, 'npp.vjv': 163498},\n       'gwcsprqv': {'hpdm.ctv': 135381,\n        'jjfrh.ttr': 150197,\n        'lwjhqc': 61236,\n        'tgwjwdwj': 150026,\n        'wshwhzw': {'wshwhzw.qtb': 51089}},\n       'hmrb.njt': 259902,\n       'pdbtbmf': 125791,\n       'spffhcnz': {'bmrcdm': 79855,\n        'clnvqg': {'nvjj': {'gqhqmlhm': {'brhvclj': 211887},\n          'mbfftpbj': {'clnvqg.gqw': 60539}},\n         'tqr': {'fvdch': {'svc': 124864}}},\n        'jjfrh.ttr': 180748,\n        'pdbtbmf': 122314,\n        'tbpsjv.tfw': 85765},\n       'srwjphc.lbp': 268942,\n       'wshwhzw': {'jrzmrg': {'svc': {'jhcvmjp.flt': 143992}},\n        'npp.vjv': 103956,\n        'zvwpmnqh.zmh': 126932}}},\n     'tbhwr': {'jjfrh.ttr': 42758},\n     'vbtmfp': {'npp.vjv': 171021},\n     'zrzrjm': {'brhvclj': {'brhvclj': 190144, 'rvbqglv.gzg': 198432},\n      'cgtqdtqq.gsc': 201331,\n      'clnvqg.zpr': 206771,\n      'jgprc': 55754,\n      'jrww': {'clnvqg': 110574},\n      'sqtzndzg': {'clnvqg.qbc': 189854, 'ldm': 260937}}}},\n   'tsb.grv': 168747,\n   'ttntt': 170407},\n  'mzmqr': {'dfws': 117135,\n   'jjfrh.ttr': 98546,\n   'jptq': {'brhvclj': {'vtgsqs': 254250},\n    'cnmb': 52040,\n    'fvqh': {'hpdm.ctv': 18471},\n    'rrdsr': 240539,\n    'tczvhsgn': {'wshwhzw.cmh': 241619},\n    'zbbq': {'vtjbg.svl': 82844}},\n   'sctfsvs': {'nbjljt': {'fst.pwm': 214471},\n    'rszwnh': {'brhvclj': {'fwbgt.rmb': 60019},\n     'ldrsbj': {'jjfrh.ttr': 23175, 'lpb': 120171},\n     'pzs': 280840,\n     'vpsnwfvc.bqg': 274286},\n    'stcmw.wwr': 56137},\n   'svc': {'rpgm': {'ttntt': 205836}},\n   'swsjjr': {'cdfj': 100874, 'dcdm.jcz': 229131, 'mspnwqmw.bpc': 18144},\n   'tstct': {'clnvqg': 94293, 'hpdm.ctv': 110519},\n   'vhfcwbv.wfq': 86793},\n  'rtmg': {'clnvqg': {'zsmwvt.sbw': 121970},\n   'gvmlqpbs.mqm': 260745,\n   'ldcwjlm': {'hpdm.ctv': 254060, 'svc.cmz': 225558, 'wshwhzw.dzn': 229614},\n   'ttntt.gnf': 192472},\n  'tqnmwdl': {'cdfj': 50489,\n   'gltsgnf': {'ttntt': {'zvjh.mzl': 120262},\n    'wgwvd': {'flt.jbn': 172875, 'pdbtbmf': 173182}},\n   'hqnjnt.gtc': 265020,\n   'psltbtl': {'sgqvlr': {'brhvclj.thj': 151451, 'pdbtbmf': 213287},\n    'svc.jnw': 88647,\n    'svc.jzb': 208354,\n    'zsld.hjs': 98962}}},\n 'dtqtvvrn': {'ttntt.dtl': 253546, 'wshwhzw.rqp': 257990},\n 'lcz': {'csqfmjz': {'wwbvnjg': 124616},\n  'nfgnnt': {'dvslq': {'cdfj': 132520,\n    'nsq': {'hpdm.ctv': 265807, 'wpqhvf.dqg': 95487},\n    'svc.spv': 1447},\n   'fbzss': {'rccwtz.tfs': 153744},\n   'ttntt': {'wshwhzw': 109641}},\n  'rwzmjgqz': {'tpggbsd': 12039},\n  'wshwhzw': {'qqnznsvj': 57458},\n  'wtvtszw': {'dlr': {'nchwzm': 142748},\n   'dzwmwjz': 151194,\n   'nzq': {'wqzpw.hvh': 242998}}},\n 'pcqjncwl': {'wpst.sds': 10646},\n 'qwvfpgl': {'bfmt.zcb': 65156, 'hpdm.ctv': 157745, 'rtbbgjr.wpv': 104612},\n 'rtmj': {'wngz': 79449},\n 'shg': {'srtj.qwz': 27187},\n 'tcdmgwp': {'wshwhzw': 277338}}"
     },
     "execution_count": 31,
     "metadata": {},
     "output_type": "execute_result"
    }
   ],
   "source": [
    "# Parse the directories\n",
    "dir_tree = {\n",
    "}\n",
    "current_dir = dir_tree\n",
    "breadcrumbs = []\n",
    "\n",
    "def cd(to_dir = '/'):\n",
    "    if to_dir == '/':\n",
    "        breadcrumbs.clear()\n",
    "        return dir_tree\n",
    "\n",
    "    if to_dir == '..':\n",
    "        # Removes the current level\n",
    "        breadcrumbs.pop()\n",
    "    else:\n",
    "        breadcrumbs.append(to_dir)\n",
    "\n",
    "    _current_dir = dir_tree\n",
    "    for dir in breadcrumbs:\n",
    "        _current_dir = _current_dir[dir]\n",
    "    return _current_dir\n",
    "\n",
    "for line in puzzle_inputs:\n",
    "    if line.startswith('$ cd '):\n",
    "        current_dir = cd(to_dir=line.replace('$ cd ', ''))\n",
    "        continue\n",
    "\n",
    "    if line.startswith('$ ls'):\n",
    "        # Do we need to care?\n",
    "        continue\n",
    "\n",
    "    file_matches = file_pattern.match(line)\n",
    "    if file_matches:\n",
    "        file_size, file_name = file_matches.groups()\n",
    "        current_dir[file_name] = int(file_size)\n",
    "        continue\n",
    "\n",
    "    dir_matches = dir_pattern.match(line)\n",
    "    if dir_matches:\n",
    "        dir_name = dir_matches.group(1)\n",
    "        if dir_name not in current_dir:\n",
    "            current_dir[dir_name] = {}\n",
    "        continue\n",
    "\n",
    "dir_tree"
   ],
   "metadata": {
    "collapsed": false
   }
  },
  {
   "cell_type": "code",
   "execution_count": 32,
   "outputs": [
    {
     "name": "stdout",
     "output_type": "stream",
     "text": [
      "1770595\n"
     ]
    }
   ],
   "source": [
    "dir_sizes = {}\n",
    "\n",
    "def dir_size(directory, dir_sizes, current_path):\n",
    "    current_dir_size = sum(v for v in directory.values() if not isinstance(v, dict))\n",
    "    sub_directories = (v for v in directory.values() if isinstance(v, dict))\n",
    "\n",
    "    if not sub_directories:\n",
    "        dir_sizes['/'.join(current_path)] = current_dir_size\n",
    "        return current_dir_size, current_dir_size if current_dir_size <= 100000 else 0\n",
    "\n",
    "    sum_small_directory_sizes = 0\n",
    "    for subdir_name, subdir in directory.items():\n",
    "        if not isinstance(subdir, dict):\n",
    "            continue\n",
    "        current_path.append(subdir_name)\n",
    "        subdir_size, subdir_size_if_small = dir_size(\n",
    "            directory=subdir,\n",
    "            dir_sizes=dir_sizes,\n",
    "            current_path=current_path\n",
    "        )\n",
    "        current_path.pop()\n",
    "        current_dir_size += subdir_size\n",
    "        sum_small_directory_sizes += subdir_size_if_small\n",
    "\n",
    "    dir_sizes['/'.join(current_path)] = current_dir_size\n",
    "\n",
    "    return current_dir_size, current_dir_size + sum_small_directory_sizes if current_dir_size <= 100000 else sum_small_directory_sizes\n",
    "\n",
    "space, small_dir = dir_size(dir_tree, dir_sizes, current_path=[])\n",
    "print(small_dir)"
   ],
   "metadata": {
    "collapsed": false
   }
  },
  {
   "cell_type": "markdown",
   "source": [
    "## Part 2"
   ],
   "metadata": {
    "collapsed": false
   }
  },
  {
   "cell_type": "code",
   "execution_count": 33,
   "outputs": [
    {
     "data": {
      "text/plain": "2143088"
     },
     "execution_count": 33,
     "metadata": {},
     "output_type": "execute_result"
    }
   ],
   "source": [
    "space_to_free = 30000000 - (70000000 - space)\n",
    "space_to_free"
   ],
   "metadata": {
    "collapsed": false
   }
  },
  {
   "cell_type": "code",
   "execution_count": 34,
   "outputs": [
    {
     "data": {
      "text/plain": "2195372"
     },
     "execution_count": 34,
     "metadata": {},
     "output_type": "execute_result"
    }
   ],
   "source": [
    "min_space = 70000000\n",
    "for value in dir_sizes.values():\n",
    "    if value >= space_to_free:\n",
    "        min_space = min(min_space, value)\n",
    "min_space"
   ],
   "metadata": {
    "collapsed": false
   }
  },
  {
   "cell_type": "code",
   "execution_count": null,
   "outputs": [],
   "source": [],
   "metadata": {
    "collapsed": false
   }
  }
 ],
 "metadata": {
  "kernelspec": {
   "display_name": "Python 3",
   "language": "python",
   "name": "python3"
  },
  "language_info": {
   "codemirror_mode": {
    "name": "ipython",
    "version": 2
   },
   "file_extension": ".py",
   "mimetype": "text/x-python",
   "name": "python",
   "nbconvert_exporter": "python",
   "pygments_lexer": "ipython2",
   "version": "2.7.6"
  }
 },
 "nbformat": 4,
 "nbformat_minor": 0
}
