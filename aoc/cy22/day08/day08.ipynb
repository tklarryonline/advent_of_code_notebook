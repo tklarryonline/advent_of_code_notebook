{
 "cells": [
  {
   "cell_type": "markdown",
   "source": [
    "# Day 8: Treetop tree house\n",
    "\n",
    "## Part 1"
   ],
   "metadata": {
    "collapsed": false
   }
  },
  {
   "cell_type": "code",
   "execution_count": 14,
   "outputs": [],
   "source": [
    "# file_name = 'samples.txt'\n",
    "file_name = 'inputs.txt'\n",
    "with open(file_name, 'r') as f:\n",
    "    trees_map = [list(map(int, line.strip())) for line in f]"
   ],
   "metadata": {
    "collapsed": false
   }
  },
  {
   "cell_type": "code",
   "execution_count": 23,
   "outputs": [
    {
     "data": {
      "text/plain": "1776"
     },
     "execution_count": 23,
     "metadata": {},
     "output_type": "execute_result"
    }
   ],
   "source": [
    "tree_cols = list(zip(*trees_map))\n",
    "height = len(trees_map)\n",
    "width = len(trees_map[0])\n",
    "\n",
    "def trees_in_directions(h, w):\n",
    "    top = tree_cols[w][:h]\n",
    "    bottom = tree_cols[w][h + 1:]\n",
    "    left = trees_map[h][:w]\n",
    "    right = trees_map[h][w+1:]\n",
    "\n",
    "    return top[::-1], bottom, left[::-1], right\n",
    "\n",
    "visible_count = 0\n",
    "for h in range(height):\n",
    "    for w in range(width):\n",
    "        # All the edges\n",
    "        if h == 0 or h == (height - 1) or w == 0 or w == (width - 1):\n",
    "            visible_count += 1\n",
    "            continue\n",
    "\n",
    "        current_tree = trees_map[h][w]\n",
    "        highest_trees = [max(trees) for trees in trees_in_directions(h, w)]\n",
    "        is_visible = any(current_tree > tree for tree in highest_trees)\n",
    "        visible_count += is_visible\n",
    "\n",
    "visible_count"
   ],
   "metadata": {
    "collapsed": false
   }
  },
  {
   "cell_type": "markdown",
   "source": [
    "## Part 2"
   ],
   "metadata": {
    "collapsed": false
   }
  },
  {
   "cell_type": "code",
   "execution_count": 24,
   "outputs": [
    {
     "data": {
      "text/plain": "234416"
     },
     "execution_count": 24,
     "metadata": {},
     "output_type": "execute_result"
    }
   ],
   "source": [
    "import math\n",
    "\n",
    "def calc_score(current_tree, direction):\n",
    "    score = 0\n",
    "    for tree in direction:\n",
    "        score += 1\n",
    "        if tree >= current_tree:\n",
    "            break\n",
    "\n",
    "    return score\n",
    "\n",
    "max_score = 0\n",
    "for h in range(height):\n",
    "    for w in range(width):\n",
    "        # All the edges\n",
    "        if h == 0 or h == (height - 1) or w == 0 or w == (width - 1):\n",
    "            continue\n",
    "\n",
    "        current_tree = trees_map[h][w]\n",
    "        score = math.prod(\n",
    "            calc_score(current_tree, direction)\n",
    "            for direction in trees_in_directions(h, w)\n",
    "        )\n",
    "        max_score = max(max_score, score)\n",
    "\n",
    "max_score"
   ],
   "metadata": {
    "collapsed": false
   }
  },
  {
   "cell_type": "code",
   "execution_count": null,
   "outputs": [],
   "source": [],
   "metadata": {
    "collapsed": false
   }
  }
 ],
 "metadata": {
  "kernelspec": {
   "display_name": "Python 3",
   "language": "python",
   "name": "python3"
  },
  "language_info": {
   "codemirror_mode": {
    "name": "ipython",
    "version": 2
   },
   "file_extension": ".py",
   "mimetype": "text/x-python",
   "name": "python",
   "nbconvert_exporter": "python",
   "pygments_lexer": "ipython2",
   "version": "2.7.6"
  }
 },
 "nbformat": 4,
 "nbformat_minor": 0
}
