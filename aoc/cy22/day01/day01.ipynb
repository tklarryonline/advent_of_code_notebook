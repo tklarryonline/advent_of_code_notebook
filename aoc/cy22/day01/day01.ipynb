{
 "cells": [
  {
   "cell_type": "markdown",
   "source": [
    "# Day 1\n",
    "\n",
    "## Part 1\n",
    "The Elves take turns writing down the number of Calories contained by the various meals, snacks, rations, etc.\n",
    "that they've brought with them, one item per line. Each Elf separates their own inventory from the previous\n",
    "Elf's inventory (if any) by a blank line."
   ],
   "metadata": {
    "collapsed": false
   }
  },
  {
   "cell_type": "code",
   "execution_count": 1,
   "outputs": [
    {
     "data": {
      "text/plain": "69528"
     },
     "execution_count": 1,
     "metadata": {},
     "output_type": "execute_result"
    }
   ],
   "source": [
    "elves = []\n",
    "elf_calories = 0\n",
    "with open('inputs.txt', 'r') as calories:\n",
    "    for cal in calories:\n",
    "        _cal = cal.strip()\n",
    "        try:\n",
    "            elf_calories += int(cal.strip())\n",
    "        except ValueError:\n",
    "            elves.append(elf_calories)\n",
    "            elf_calories = 0\n",
    "\n",
    "elves = sorted(elves)\n",
    "elves[-1]"
   ],
   "metadata": {
    "collapsed": false
   }
  },
  {
   "cell_type": "markdown",
   "source": [
    "# Part Two"
   ],
   "metadata": {
    "collapsed": false
   }
  },
  {
   "cell_type": "code",
   "execution_count": 2,
   "outputs": [
    {
     "data": {
      "text/plain": "206152"
     },
     "execution_count": 2,
     "metadata": {},
     "output_type": "execute_result"
    }
   ],
   "source": [
    "sum(elves[-3:])"
   ],
   "metadata": {
    "collapsed": false
   }
  },
  {
   "cell_type": "code",
   "execution_count": null,
   "outputs": [],
   "source": [],
   "metadata": {
    "collapsed": false
   }
  }
 ],
 "metadata": {
  "kernelspec": {
   "display_name": "Python 3",
   "language": "python",
   "name": "python3"
  },
  "language_info": {
   "codemirror_mode": {
    "name": "ipython",
    "version": 2
   },
   "file_extension": ".py",
   "mimetype": "text/x-python",
   "name": "python",
   "nbconvert_exporter": "python",
   "pygments_lexer": "ipython2",
   "version": "2.7.6"
  }
 },
 "nbformat": 4,
 "nbformat_minor": 0
}
