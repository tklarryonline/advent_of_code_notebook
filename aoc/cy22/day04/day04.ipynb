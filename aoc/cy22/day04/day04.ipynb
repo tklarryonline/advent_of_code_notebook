{
 "cells": [
  {
   "cell_type": "markdown",
   "source": [
    "# Day 4: Camp Cleanup\n",
    "\n",
    "## Part 1"
   ],
   "metadata": {
    "collapsed": false
   }
  },
  {
   "cell_type": "code",
   "execution_count": 13,
   "outputs": [
    {
     "data": {
      "text/plain": "['38-41,38-38',\n '18-65,18-65',\n '1-3,4-39',\n '41-42,40-40',\n '1-90,89-90',\n '30-84,31-85']"
     },
     "execution_count": 13,
     "metadata": {},
     "output_type": "execute_result"
    }
   ],
   "source": [
    "# file_name = 'sample.txt'\n",
    "file_name = 'inputs.txt'\n",
    "with open(file_name, 'r') as f:\n",
    "    puzzle_inputs = [line.strip() for line in f]\n",
    "puzzle_inputs[:6]"
   ],
   "metadata": {
    "collapsed": false
   }
  },
  {
   "cell_type": "code",
   "execution_count": 7,
   "outputs": [
    {
     "data": {
      "text/plain": "['95', '95', '14', '95']"
     },
     "execution_count": 7,
     "metadata": {},
     "output_type": "execute_result"
    }
   ],
   "source": [
    "test_str = '95-95,14-95'\n",
    "import re\n",
    "pattern = re.compile(r'(\\d+)')\n",
    "pattern.findall(test_str)"
   ],
   "metadata": {
    "collapsed": false
   }
  },
  {
   "cell_type": "code",
   "execution_count": 10,
   "outputs": [
    {
     "data": {
      "text/plain": "500"
     },
     "execution_count": 10,
     "metadata": {},
     "output_type": "execute_result"
    }
   ],
   "source": [
    "count = 0\n",
    "for pair in puzzle_inputs:\n",
    "    start_a, end_a, start_b, end_b = [int(x) for x in pattern.findall(pair)]\n",
    "    section_a = set(range(start_a, end_a + 1))\n",
    "    section_b = set(range(start_b, end_b + 1))\n",
    "    if section_a.issubset(section_b) or section_a.issuperset(section_b):\n",
    "        count += 1\n",
    "\n",
    "count"
   ],
   "metadata": {
    "collapsed": false
   }
  },
  {
   "cell_type": "markdown",
   "source": [
    "## Part 2"
   ],
   "metadata": {
    "collapsed": false
   }
  },
  {
   "cell_type": "code",
   "execution_count": 14,
   "outputs": [
    {
     "data": {
      "text/plain": "815"
     },
     "execution_count": 14,
     "metadata": {},
     "output_type": "execute_result"
    }
   ],
   "source": [
    "count = 0\n",
    "for pair in puzzle_inputs:\n",
    "    start_a, end_a, start_b, end_b = [int(x) for x in pattern.findall(pair)]\n",
    "    section_a = set(range(start_a, end_a + 1))\n",
    "    section_b = set(range(start_b, end_b + 1))\n",
    "    if section_a.intersection(section_b):\n",
    "        count += 1\n",
    "\n",
    "count"
   ],
   "metadata": {
    "collapsed": false
   }
  },
  {
   "cell_type": "code",
   "execution_count": null,
   "outputs": [],
   "source": [],
   "metadata": {
    "collapsed": false
   }
  }
 ],
 "metadata": {
  "kernelspec": {
   "display_name": "Python 3",
   "language": "python",
   "name": "python3"
  },
  "language_info": {
   "codemirror_mode": {
    "name": "ipython",
    "version": 2
   },
   "file_extension": ".py",
   "mimetype": "text/x-python",
   "name": "python",
   "nbconvert_exporter": "python",
   "pygments_lexer": "ipython2",
   "version": "2.7.6"
  }
 },
 "nbformat": 4,
 "nbformat_minor": 0
}
