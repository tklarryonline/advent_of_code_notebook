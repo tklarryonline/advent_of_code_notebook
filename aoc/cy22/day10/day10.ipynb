{
 "cells": [
  {
   "cell_type": "markdown",
   "source": [
    "# Day 10: Cathode-ray tube\n",
    "\n",
    "## Part 1"
   ],
   "metadata": {
    "collapsed": false
   }
  },
  {
   "cell_type": "code",
   "execution_count": 1,
   "outputs": [],
   "source": [
    "class CPU:\n",
    "    def __init__(self):\n",
    "        self.cycle = 0\n",
    "        self.X = 1\n",
    "        self.strength = 0\n",
    "        self.pixels = ''\n",
    "        self.col = 0\n",
    "\n",
    "    def increase_cycle(self):\n",
    "        # Part 2\n",
    "        self.pixels += '#' if 0 <= abs(self.X - self.col) <= 1 else '.'\n",
    "\n",
    "        self.cycle += 1\n",
    "        if self.cycle % 40 == 0:\n",
    "            self.col = 0\n",
    "            self.pixels += '\\n'\n",
    "        else:\n",
    "            self.col += 1\n",
    "\n",
    "        # Part 1\n",
    "        if (self.cycle - 20) % 40 == 0:\n",
    "            self.strength += self.cycle * self.X\n",
    "\n",
    "    def noop(self):\n",
    "        self.increase_cycle()\n",
    "\n",
    "    def addx(self, X):\n",
    "        self.increase_cycle()\n",
    "        self.increase_cycle()\n",
    "        self.X += X\n",
    "\n",
    "    def operate(self, signal: str):\n",
    "        if signal == 'noop':\n",
    "            return self.noop()\n",
    "\n",
    "        if signal.startswith('addx'):\n",
    "            _, value = signal.split(' ')\n",
    "            return self.addx(int(value))"
   ],
   "metadata": {
    "collapsed": false
   }
  },
  {
   "cell_type": "code",
   "execution_count": 2,
   "outputs": [
    {
     "name": "stdout",
     "output_type": "stream",
     "text": [
      "Part 1: 15260\n",
      "Part 2:\n",
      "###...##..#..#.####..##..#....#..#..##..\n",
      "#..#.#..#.#..#.#....#..#.#....#..#.#..#.\n",
      "#..#.#....####.###..#....#....#..#.#....\n",
      "###..#.##.#..#.#....#.##.#....#..#.#.##.\n",
      "#....#..#.#..#.#....#..#.#....#..#.#..#.\n",
      "#.....###.#..#.#.....###.####..##...###.\n",
      "\n"
     ]
    }
   ],
   "source": [
    "cpu = CPU()\n",
    "\n",
    "file_name = 'inputs.txt'\n",
    "with open(file_name, 'r') as f:\n",
    "    for line in f:\n",
    "        cpu.operate(signal=line.strip())\n",
    "\n",
    "print(f'Part 1: {cpu.strength}')\n",
    "print('Part 2:')\n",
    "print(cpu.pixels)"
   ],
   "metadata": {
    "collapsed": false
   }
  },
  {
   "cell_type": "markdown",
   "source": [
    "So part 2 is PGHFGLUG"
   ],
   "metadata": {
    "collapsed": false
   }
  },
  {
   "cell_type": "code",
   "execution_count": null,
   "outputs": [],
   "source": [],
   "metadata": {
    "collapsed": false
   }
  }
 ],
 "metadata": {
  "kernelspec": {
   "display_name": "Python 3",
   "language": "python",
   "name": "python3"
  },
  "language_info": {
   "codemirror_mode": {
    "name": "ipython",
    "version": 2
   },
   "file_extension": ".py",
   "mimetype": "text/x-python",
   "name": "python",
   "nbconvert_exporter": "python",
   "pygments_lexer": "ipython2",
   "version": "2.7.6"
  }
 },
 "nbformat": 4,
 "nbformat_minor": 0
}
