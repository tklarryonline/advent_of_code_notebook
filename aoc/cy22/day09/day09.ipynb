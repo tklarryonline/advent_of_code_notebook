{
 "cells": [
  {
   "cell_type": "markdown",
   "source": [
    "# Day 09: Rope Bridge"
   ],
   "metadata": {
    "collapsed": false
   }
  },
  {
   "cell_type": "markdown",
   "source": [
    "## Part 1\n",
    "\n",
    "First, we need to parse the inputs and determine the size of the field"
   ],
   "metadata": {
    "collapsed": false
   }
  },
  {
   "cell_type": "code",
   "execution_count": 54,
   "outputs": [],
   "source": [
    "class Direction:\n",
    "    UP = 'U'\n",
    "    RIGHT = 'R'\n",
    "    DOWN = 'D'\n",
    "    LEFT = 'L'\n",
    "\n",
    "file_name = 'inputs.txt'\n",
    "\n",
    "with open(file_name, 'r') as f:\n",
    "    move_steps = []\n",
    "    for line in f:\n",
    "        direction, steps = line.strip().split(' ')\n",
    "        steps = int(steps)\n",
    "        move_steps.append((direction, steps))"
   ],
   "metadata": {
    "collapsed": false
   }
  },
  {
   "cell_type": "code",
   "execution_count": 55,
   "outputs": [],
   "source": [
    "def move_rope_end(position, direction):\n",
    "    directional_move = {\n",
    "        Direction.UP:    (0, -1),\n",
    "        Direction.DOWN:  (0, +1),\n",
    "        Direction.LEFT:  (-1, 0),\n",
    "        Direction.RIGHT: (+1, 0),\n",
    "    }\n",
    "\n",
    "    x, y = position\n",
    "    move_x, move_y = directional_move[direction]\n",
    "    return x + move_x, y + move_y\n",
    "\n",
    "\n",
    "def move_tail_after_head(head_position, tail_position):\n",
    "    \"\"\"Attempt to let the tail chase after the head\"\"\"\n",
    "    head_x, head_y = head_position\n",
    "    tail_x, tail_y = tail_position\n",
    "\n",
    "    # Nothing happen\n",
    "    if abs(head_x - tail_x) <= 1 and abs(head_y - tail_y) <= 1:\n",
    "        return tail_x, tail_y\n",
    "\n",
    "    # If the head is far up or down\n",
    "    if head_x == tail_x and abs(head_y - tail_y) >= 2:\n",
    "        return move_rope_end(\n",
    "            position=tail_position,\n",
    "            direction=Direction.UP if head_y < tail_y else Direction.DOWN\n",
    "        )\n",
    "\n",
    "    # If the head is far left or right\n",
    "    if head_y == tail_y and abs(head_x - tail_x) >= 2:\n",
    "        return move_rope_end(\n",
    "            position=tail_position,\n",
    "            direction=Direction.LEFT if head_x < tail_x else Direction.RIGHT\n",
    "        )\n",
    "\n",
    "    # If the head is not in the same row and move away vertically\n",
    "    if abs(head_x - tail_x) == 2 or abs(head_y - tail_y) == 2:\n",
    "        tail_x, tail_y = move_rope_end(\n",
    "            position=tail_position,\n",
    "            direction=Direction.LEFT if head_x < tail_x else Direction.RIGHT\n",
    "        )\n",
    "        return move_rope_end(\n",
    "            position=[tail_x, tail_y],\n",
    "            direction=Direction.UP if head_y < tail_y else Direction.DOWN\n",
    "        )\n"
   ],
   "metadata": {
    "collapsed": false
   }
  },
  {
   "cell_type": "markdown",
   "source": [
    "## Part 2: Now give me 10 ropes..."
   ],
   "metadata": {
    "collapsed": false
   }
  },
  {
   "cell_type": "code",
   "execution_count": 56,
   "outputs": [
    {
     "name": "stdout",
     "output_type": "stream",
     "text": [
      "Part 1: 6314\n",
      "Part 2: 2504\n"
     ]
    }
   ],
   "source": [
    "ropes = [[0,0] for _ in range(10)]\n",
    "part1_visits = set()\n",
    "part2_visits = set()\n",
    "\n",
    "for direction, steps in move_steps:\n",
    "    for _ in range(steps):\n",
    "        ropes[0] = move_rope_end(\n",
    "            position=ropes[0],\n",
    "            direction=direction\n",
    "        )\n",
    "        for i in range(1, 10):\n",
    "            ropes[i] = move_tail_after_head(\n",
    "                head_position=ropes[i-1],\n",
    "                tail_position=ropes[i],\n",
    "            )\n",
    "        part1_visits.add(ropes[1])\n",
    "        part2_visits.add(ropes[9])\n",
    "\n",
    "print(f'Part 1: {len(part1_visits)}')\n",
    "print(f'Part 2: {len(part2_visits)}')"
   ],
   "metadata": {
    "collapsed": false
   }
  },
  {
   "cell_type": "code",
   "execution_count": null,
   "outputs": [],
   "source": [],
   "metadata": {
    "collapsed": false
   }
  }
 ],
 "metadata": {
  "kernelspec": {
   "display_name": "Python 3",
   "language": "python",
   "name": "python3"
  },
  "language_info": {
   "codemirror_mode": {
    "name": "ipython",
    "version": 2
   },
   "file_extension": ".py",
   "mimetype": "text/x-python",
   "name": "python",
   "nbconvert_exporter": "python",
   "pygments_lexer": "ipython2",
   "version": "2.7.6"
  }
 },
 "nbformat": 4,
 "nbformat_minor": 0
}
