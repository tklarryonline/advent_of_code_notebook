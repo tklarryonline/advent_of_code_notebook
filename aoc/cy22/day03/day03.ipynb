{
 "cells": [
  {
   "cell_type": "markdown",
   "source": [
    "# Day 03\n",
    "\n",
    "## Part 1"
   ],
   "metadata": {
    "collapsed": false
   }
  },
  {
   "cell_type": "code",
   "execution_count": 17,
   "outputs": [
    {
     "data": {
      "text/plain": "['wgqJtbJMqZVTwWPZZT',\n 'LHcTGHQhzrTzBsZFPHFZWFFs',\n 'RnLRClzGzRGLGLGCNRjTMjJfgmffSffMqNgp',\n 'WPLgsfLmLgqZvZgSRR',\n 'RbwHdbDdQFFFMvvMjbhqhZZS',\n 'lzTdldBDszfGcRsr']"
     },
     "execution_count": 17,
     "metadata": {},
     "output_type": "execute_result"
    }
   ],
   "source": [
    "# file_name = 'sample.txt'\n",
    "file_name = 'inputs.txt'\n",
    "with open(file_name, 'r') as f:\n",
    "    puzzle_inputs = [line.strip() for line in f]\n",
    "puzzle_inputs[:6]"
   ],
   "metadata": {
    "collapsed": false
   }
  },
  {
   "cell_type": "code",
   "execution_count": 4,
   "outputs": [],
   "source": [
    "ord_a = ord('a')\n",
    "def calc_priority(item: str) -> int:\n",
    "    \"\"\"\n",
    "    Calculates the priority of the item using the ord() function.\n",
    "    We know that:\n",
    "    - ord('a') returns 97\n",
    "    - ord('A') returns 65\n",
    "    Therefore, for any items:\n",
    "    - From a to z, its ord should be deducted by 96\n",
    "    - From A to Z, its ord should be deducted by 38\n",
    "    \"\"\"\n",
    "    value = ord(item)\n",
    "    return value - 96 if value >= ord_a else value - 38"
   ],
   "metadata": {
    "collapsed": false
   }
  },
  {
   "cell_type": "code",
   "execution_count": 13,
   "outputs": [
    {
     "data": {
      "text/plain": "7727"
     },
     "execution_count": 13,
     "metadata": {},
     "output_type": "execute_result"
    }
   ],
   "source": [
    "score = 0\n",
    "for russack in puzzle_inputs:\n",
    "    first_compartment = set(russack[:int(len(russack) / 2)])\n",
    "    second_compartment = set(russack[int(len(russack) / 2):])\n",
    "    common_item = first_compartment.intersection(second_compartment)\n",
    "    score += calc_priority(common_item.pop())\n",
    "\n",
    "score"
   ],
   "metadata": {
    "collapsed": false
   }
  },
  {
   "cell_type": "markdown",
   "source": [
    "## Part 2"
   ],
   "metadata": {
    "collapsed": false
   }
  },
  {
   "cell_type": "code",
   "execution_count": 18,
   "outputs": [
    {
     "data": {
      "text/plain": "2609"
     },
     "execution_count": 18,
     "metadata": {},
     "output_type": "execute_result"
    }
   ],
   "source": [
    "score = 0\n",
    "for a, b, c in zip(*[iter(puzzle_inputs)] * 3):\n",
    "    common_item = set.intersection(set(a), set(b), set(c))\n",
    "    score += calc_priority(common_item.pop())\n",
    "\n",
    "score"
   ],
   "metadata": {
    "collapsed": false
   }
  },
  {
   "cell_type": "code",
   "execution_count": null,
   "outputs": [],
   "source": [],
   "metadata": {
    "collapsed": false
   }
  }
 ],
 "metadata": {
  "kernelspec": {
   "display_name": "Python 3",
   "language": "python",
   "name": "python3"
  },
  "language_info": {
   "codemirror_mode": {
    "name": "ipython",
    "version": 2
   },
   "file_extension": ".py",
   "mimetype": "text/x-python",
   "name": "python",
   "nbconvert_exporter": "python",
   "pygments_lexer": "ipython2",
   "version": "2.7.6"
  }
 },
 "nbformat": 4,
 "nbformat_minor": 0
}
